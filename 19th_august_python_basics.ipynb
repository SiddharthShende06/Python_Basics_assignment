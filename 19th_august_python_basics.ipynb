{
 "cells": [
  {
   "cell_type": "markdown",
   "id": "e5a76379-54c3-46e5-a8ce-697c0b0ffe8a",
   "metadata": {},
   "source": [
    "TOPIC: Python Basics Variable"
   ]
  },
  {
   "cell_type": "markdown",
   "id": "7d770c01-70a1-4c9c-8bd6-18a632abc0db",
   "metadata": {},
   "source": [
    "Solution 1"
   ]
  },
  {
   "cell_type": "code",
   "execution_count": 7,
   "id": "7d600a2b-2e84-4663-97d2-dd32d5388976",
   "metadata": {},
   "outputs": [],
   "source": [
    "x = 1\n",
    "y = 2\n",
    "x, y = y, x"
   ]
  },
  {
   "cell_type": "code",
   "execution_count": 26,
   "id": "3e76313e-0505-4d4f-af0b-dd894193baaf",
   "metadata": {},
   "outputs": [
    {
     "data": {
      "text/plain": [
       "(2, 1)"
      ]
     },
     "execution_count": 26,
     "metadata": {},
     "output_type": "execute_result"
    }
   ],
   "source": [
    "x, y"
   ]
  },
  {
   "cell_type": "markdown",
   "id": "7f8306fa-ed0c-4604-ba85-375b78179034",
   "metadata": {},
   "source": [
    "Solution 2"
   ]
  },
  {
   "cell_type": "code",
   "execution_count": 11,
   "id": "564cf84e-7d65-4ba3-b0e9-0a47be5915cf",
   "metadata": {},
   "outputs": [],
   "source": [
    "length = 200\n",
    "width = 300"
   ]
  },
  {
   "cell_type": "code",
   "execution_count": 13,
   "id": "1e84ce4e-0689-440b-92eb-57d6422a23d2",
   "metadata": {},
   "outputs": [
    {
     "data": {
      "text/plain": [
       "60000"
      ]
     },
     "execution_count": 13,
     "metadata": {},
     "output_type": "execute_result"
    }
   ],
   "source": [
    "length * width"
   ]
  },
  {
   "cell_type": "markdown",
   "id": "e17e79aa-af29-47ea-98cb-cc82889ce31c",
   "metadata": {},
   "source": [
    "Solution 3"
   ]
  },
  {
   "cell_type": "code",
   "execution_count": 1,
   "id": "8e352562-b4ed-4c9a-b2c2-7d9a87147d8a",
   "metadata": {},
   "outputs": [
    {
     "name": "stdout",
     "output_type": "stream",
     "text": [
      "2.5 Celsius is equal to 36.5 Fahrenheit\n"
     ]
    }
   ],
   "source": [
    "# Input temperature in Celsius\n",
    "celsius_temperature = (2.5)\n",
    "\n",
    "# Convert Celsius to Fahrenheit\n",
    "fahrenheit_temperature = (celsius_temperature * 9/5) + 32\n",
    "\n",
    "# Display the result\n",
    "print(f\"{celsius_temperature} Celsius is equal to {fahrenheit_temperature} Fahrenheit\")"
   ]
  },
  {
   "cell_type": "code",
   "execution_count": null,
   "id": "d2cab789-8861-4fa4-a593-f93da796dc6e",
   "metadata": {},
   "outputs": [],
   "source": []
  },
  {
   "cell_type": "code",
   "execution_count": null,
   "id": "c8c25277-fa0d-4f80-b76e-81f386ce3f1b",
   "metadata": {},
   "outputs": [],
   "source": []
  },
  {
   "cell_type": "markdown",
   "id": "3c6d66a3-2ba7-40a3-80ad-923ddf848a0a",
   "metadata": {},
   "source": [
    "TOPIC: String Based Questions"
   ]
  },
  {
   "cell_type": "markdown",
   "id": "1ef16f34-c7c9-402b-aa78-96b559ad7f0b",
   "metadata": {},
   "source": [
    "Solution 1"
   ]
  },
  {
   "cell_type": "code",
   "execution_count": 29,
   "id": "7e78d589-7b40-4e5c-a3fd-cb33b355b0f4",
   "metadata": {},
   "outputs": [
    {
     "name": "stdout",
     "output_type": "stream",
     "text": [
      "8\n"
     ]
    }
   ],
   "source": [
    "a = 'pwskills'\n",
    "length_of_string = len(a)\n",
    "print(length_of_string)"
   ]
  },
  {
   "cell_type": "markdown",
   "id": "255c45f0-8fbc-4f87-9894-1596abf5d7ba",
   "metadata": {},
   "source": [
    "solution 2"
   ]
  },
  {
   "cell_type": "code",
   "execution_count": 5,
   "id": "2be26408-b35c-43d4-8d69-b1d79af362ac",
   "metadata": {},
   "outputs": [
    {
     "name": "stdout",
     "output_type": "stream",
     "text": [
      "Number of vowels: 26\n"
     ]
    }
   ],
   "source": [
    "sentence = 'Create a program that takes a sentence from the user and counts the number of vowels'\n",
    "vowel_count = sum(sentence.count(vowel) for vowel in \"aeiou\")\n",
    "print(\"Number of vowels:\", vowel_count)"
   ]
  },
  {
   "cell_type": "markdown",
   "id": "97e8e39d-8204-4fbb-a61b-953dac97871d",
   "metadata": {},
   "source": [
    "solution 3"
   ]
  },
  {
   "cell_type": "code",
   "execution_count": 34,
   "id": "1ac00585-7a03-4157-9dac-2b139611c063",
   "metadata": {},
   "outputs": [
    {
     "data": {
      "text/plain": [
       "'sllikswp'"
      ]
     },
     "execution_count": 34,
     "metadata": {},
     "output_type": "execute_result"
    }
   ],
   "source": [
    "a = 'pwskills'\n",
    "a[::-1]"
   ]
  },
  {
   "cell_type": "markdown",
   "id": "4c810b49-d890-4c6a-b401-e951a0fd6b9a",
   "metadata": {},
   "source": [
    "solution 4"
   ]
  },
  {
   "cell_type": "code",
   "execution_count": 3,
   "id": "669f2fd9-82ee-44a1-b2cb-b2c9787f01d0",
   "metadata": {},
   "outputs": [
    {
     "name": "stdout",
     "output_type": "stream",
     "text": [
      "It's not a palindrome.\n"
     ]
    }
   ],
   "source": [
    "def is_palindrome(s):\n",
    "    # Remove spaces and convert to lowercase for case-insensitive comparison\n",
    "    s = s.replace(\" \", \"\").lower()\n",
    "    return s == s[::-1]\n",
    "\n",
    "input_string = (\"my nsme is siddharth\")\n",
    "if is_palindrome(input_string):\n",
    "    print(\"It's a palindrome!\")\n",
    "else:\n",
    "    print(\"It's not a palindrome.\")"
   ]
  },
  {
   "cell_type": "markdown",
   "id": "d5ea82f8-055f-4809-a9ad-631afe8c5b88",
   "metadata": {},
   "source": [
    "solution 5"
   ]
  },
  {
   "cell_type": "code",
   "execution_count": 19,
   "id": "fd6f52dc-bc1a-4e83-9fdd-ef82239e4445",
   "metadata": {},
   "outputs": [],
   "source": [
    "a = \"This is a sentence with spaces.\"\n",
    "\n",
    "b = a.replace(\" \", \"\")"
   ]
  },
  {
   "cell_type": "code",
   "execution_count": 20,
   "id": "7fc3074d-8406-4963-87ee-86e75d0be331",
   "metadata": {},
   "outputs": [
    {
     "name": "stdout",
     "output_type": "stream",
     "text": [
      "Thisisasentencewithspaces.\n"
     ]
    }
   ],
   "source": [
    "print(b)"
   ]
  },
  {
   "cell_type": "code",
   "execution_count": null,
   "id": "c5b52553-6954-4a12-8e6a-c80afdc3e4f8",
   "metadata": {},
   "outputs": [],
   "source": []
  }
 ],
 "metadata": {
  "kernelspec": {
   "display_name": "Python 3 (ipykernel)",
   "language": "python",
   "name": "python3"
  },
  "language_info": {
   "codemirror_mode": {
    "name": "ipython",
    "version": 3
   },
   "file_extension": ".py",
   "mimetype": "text/x-python",
   "name": "python",
   "nbconvert_exporter": "python",
   "pygments_lexer": "ipython3",
   "version": "3.10.8"
  }
 },
 "nbformat": 4,
 "nbformat_minor": 5
}
